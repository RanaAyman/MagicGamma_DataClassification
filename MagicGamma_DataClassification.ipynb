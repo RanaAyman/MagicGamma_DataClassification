{
  "nbformat": 4,
  "nbformat_minor": 0,
  "metadata": {
    "colab": {
      "name": "MagicGamma-DataClassification.ipynb",
      "provenance": [],
      "collapsed_sections": [],
      "include_colab_link": true
    },
    "kernelspec": {
      "name": "python3",
      "display_name": "Python 3"
    },
    "language_info": {
      "name": "python"
    }
  },
  "cells": [
    {
      "cell_type": "markdown",
      "metadata": {
        "id": "view-in-github",
        "colab_type": "text"
      },
      "source": [
        "<a href=\"https://colab.research.google.com/github/RanaAyman/MagicGamma_DataClassification/blob/main/MagicGamma_DataClassification.ipynb\" target=\"_parent\"><img src=\"https://colab.research.google.com/assets/colab-badge.svg\" alt=\"Open In Colab\"/></a>"
      ]
    },
    {
      "cell_type": "markdown",
      "source": [
        "# **Problem Statement** <br>\n",
        "Given the MAGIC gamma telescope dataset that can be obtained using this Link. This dataset\n",
        "is generated to simulate registration of high energy gamma particles in a ground-based atmo\u0002spheric Cherenkov gamma telescope using the imaging technique. The dataset consists of two\n",
        "classes; gammas (signal) and hadrons (background). There are 12332 gamma events and 6688\n",
        "hadron events. You are required to use this dataset to apply different classification models\n",
        "such as Decision Trees, Na¨ıve Bayes Classifier, Random Forests, AdaBoost and K\u0002Nearest Neighbor (K-NN). You are also required to tune the parameters of these models,\n",
        "and compare the performance of models with each other."
      ],
      "metadata": {
        "id": "9SLu00oJJ2wH"
      }
    },
    {
      "cell_type": "code",
      "execution_count": null,
      "metadata": {
        "id": "1UgCEhXHSN6t"
      },
      "outputs": [],
      "source": [
        "import random\n",
        "import pandas as pd\n",
        "from matplotlib import pyplot as plt\n",
        "from sklearn import metrics\n",
        "from sklearn.metrics import confusion_matrix, accuracy_score, classification_report\n",
        "from sklearn.model_selection import train_test_split\n",
        "from sklearn.naive_bayes import GaussianNB\n",
        "from sklearn.neighbors import KNeighborsClassifier\n",
        "from sklearn.tree import DecisionTreeClassifier\n",
        "from sklearn.ensemble import AdaBoostClassifier\n",
        "from sklearn.ensemble import RandomForestClassifier\n",
        "from sklearn.model_selection import cross_val_score, StratifiedKFold"
      ]
    },
    {
      "cell_type": "code",
      "source": [
        "max_accuracy = [] #to store accuracy of each algorithm to comapare between their results"
      ],
      "metadata": {
        "id": "tMGW4Y3unuws"
      },
      "execution_count": null,
      "outputs": []
    },
    {
      "cell_type": "code",
      "source": [
        "def read(): return pd.read_csv('https://archive.ics.uci.edu/ml/machine-learning-databases/magic/magic04.data',sep=',', header=None)"
      ],
      "metadata": {
        "id": "t_ZIDfiYSoF2"
      },
      "execution_count": null,
      "outputs": []
    },
    {
      "cell_type": "markdown",
      "source": [
        "The dataset is class-imbalanced. To balance the dataset, randomly put aside\n",
        "the extra readings for the gamma “g” class to make both classes equal in size."
      ],
      "metadata": {
        "id": "Tt3mpn8jKtoB"
      }
    },
    {
      "cell_type": "code",
      "source": [
        "def balance(dataset):\n",
        "    i = 5644\n",
        "    while i > 0:\n",
        "        j = random.randint(0, 12331)\n",
        "        if dataset.iloc[j, 10] == 'g':\n",
        "            dataset = dataset.drop(dataset.index[j])\n",
        "            i -= 1\n",
        "    return dataset"
      ],
      "metadata": {
        "id": "DAeQCgp1XOZX"
      },
      "execution_count": null,
      "outputs": []
    },
    {
      "cell_type": "code",
      "source": [
        "# def balancing(data):\n",
        "#     grouped = data.groupby(data[10])\n",
        "#     positive =grouped.get_group(\"g\")\n",
        "#     positive = positive.sample(n=6688)\n",
        "#     negative =grouped.get_group(\"h\")\n",
        "#     return pd.concat([positive,negative],axis=0)"
      ],
      "metadata": {
        "id": "hpUiI575oWZh"
      },
      "execution_count": null,
      "outputs": []
    },
    {
      "cell_type": "markdown",
      "source": [
        "Split your dataset randomly so that the training set would form 70% of the dataset and\n",
        "the testing set would form 30% of it.\n"
      ],
      "metadata": {
        "id": "4l3r3BZqK6Ym"
      }
    },
    {
      "cell_type": "code",
      "source": [
        "def split(instances):\n",
        "    x = instances.values[:, 0:9]\n",
        "    y = instances.values[:, 10]\n",
        "    x_train, x_test, y_train, y_test = train_test_split(\n",
        "        x, y, test_size=0.3, random_state=100,stratify=y)\n",
        "    return x_train, x_test, y_train, y_test"
      ],
      "metadata": {
        "id": "bzDG3JeNXU-X"
      },
      "execution_count": null,
      "outputs": []
    },
    {
      "cell_type": "code",
      "source": [
        "def get_accuracy(y_test, y_pred):\n",
        "    print(\"Confusion Matrix: \\n\", confusion_matrix(y_test, y_pred, labels=['h', 'g']))\n",
        "    print(\"Accuracy: \", accuracy_score(y_test, y_pred) * 100)\n",
        "    print(\"Report:\\n\", classification_report(y_test, y_pred))"
      ],
      "metadata": {
        "id": "2vWpzYrllpgX"
      },
      "execution_count": null,
      "outputs": []
    },
    {
      "cell_type": "code",
      "source": [
        "def decision_tree(x_train, x_test, y_train, y_test):\n",
        "    clf_entropy = DecisionTreeClassifier(criterion=\"entropy\", random_state=100)\n",
        "    clf_entropy.fit(x_train, y_train)\n",
        "    y_pred_entropy = clf_entropy.predict(x_test)\n",
        "    print(\"********** Decision Tree: Entropy **********\")\n",
        "    get_accuracy(y_test, y_pred_entropy)\n",
        "    max_accuracy.append(accuracy_score(y_test, y_pred_entropy) * 100)"
      ],
      "metadata": {
        "id": "KzplMbJYhMli"
      },
      "execution_count": null,
      "outputs": []
    },
    {
      "cell_type": "markdown",
      "source": [
        "The Guassian Naive bayes is still the worst but at least better than Naive bayes. It has the worst accuracy because it assume that all features is indpendent from each other which isn't usual the case in real life"
      ],
      "metadata": {
        "id": "GpfJhrENcWBq"
      }
    },
    {
      "cell_type": "code",
      "source": [
        "def naive_bayes(x_train, x_test, y_train, y_test):\n",
        "    gnb = GaussianNB()\n",
        "    gnb.fit(x_train, y_train)\n",
        "    y_pred = gnb.predict(x_test)\n",
        "    print(\"********** Naive Bayes **********\")\n",
        "    get_accuracy(y_test, y_pred)\n",
        "    max_accuracy.append(accuracy_score(y_test, y_pred) * 100)"
      ],
      "metadata": {
        "id": "1FK8yG8rnHzu"
      },
      "execution_count": null,
      "outputs": []
    },
    {
      "cell_type": "markdown",
      "source": [
        "We get the best K by tuning K from 1 to 30 and in each k we do cross validation by making the train set 10 folds and storing their mean accuracy in list to get the max k whose the max mean accuracy."
      ],
      "metadata": {
        "id": "RxntC8lDLTT4"
      }
    },
    {
      "cell_type": "markdown",
      "source": [
        "We choose the K from 1 to 30 based on deep studying on the dataset and trying big numbers. We found that the best Ks in this situation most probably ranges from 5 to 20 and in worst case doesn't exceed 30."
      ],
      "metadata": {
        "id": "J0mx8HAdetfn"
      }
    },
    {
      "cell_type": "code",
      "source": [
        "def getBestK(x_train, y_train):\n",
        "    k_range = range(1, 30)\n",
        "    scores_list = []\n",
        "    skf = StratifiedKFold(n_splits=10)\n",
        "    for k in k_range:\n",
        "      knn = KNeighborsClassifier(n_neighbors=k)\n",
        "      scores = cross_val_score(knn, x_train, y_train, cv=skf, scoring='accuracy')\n",
        "      scores_list.append(scores.mean() * 100)\n",
        "    return (scores_list.index(max(scores_list))) + k_range[0] , scores_list , k_range"
      ],
      "metadata": {
        "id": "a9OU89h28qqi"
      },
      "execution_count": null,
      "outputs": []
    },
    {
      "cell_type": "code",
      "source": [
        "def knn(x_train, x_test, y_train, y_test):\n",
        "    best_k , scores_list , k_range = getBestK(x_train, y_train)\n",
        "    print(\"********** KNN **********\")\n",
        "    knn = KNeighborsClassifier(n_neighbors=best_k)\n",
        "    knn.fit(x_train, y_train)\n",
        "    y_pred = knn.predict(x_test)\n",
        "    print(\"Accuracy Report for k = \", best_k)\n",
        "    get_accuracy(y_test, y_pred)\n",
        "    max_accuracy.append(accuracy_score(y_test, y_pred) * 100)\n",
        "    plot_KNNs(k_range, scores_list)\n",
        "    print(\"********************************\")"
      ],
      "metadata": {
        "id": "ILCcOzfi_Fk7"
      },
      "execution_count": null,
      "outputs": []
    },
    {
      "cell_type": "code",
      "source": [
        "def plot_KNNs(k_range, scores_list):\n",
        "    fig, ax = plt.subplots()\n",
        "    ax.plot(k_range, scores_list)\n",
        "    plt.title('K-NN with K tuned')\n",
        "    plt.xlabel(\"Value of K\")\n",
        "    plt.ylabel(\"Testing Accuracy\")\n",
        "    annot_max(k_range,scores_list)\n",
        "    plt.show()"
      ],
      "metadata": {
        "id": "SwR_Hol9rFWq"
      },
      "execution_count": null,
      "outputs": []
    },
    {
      "cell_type": "code",
      "source": [
        "def annot_max(x,y, ax=None):\n",
        "    xmax = (y.index(max(y)))+x[0]\n",
        "    ymax = y[xmax-1]\n",
        "    text= \"k={:d}\".format(xmax, ymax)\n",
        "    if not ax:\n",
        "        ax=plt.gca()\n",
        "    bbox_props = dict(boxstyle=\"square,pad=0.3\", fc=\"w\", ec=\"k\", lw=0.72)\n",
        "    arrowprops=dict(arrowstyle=\"->\",connectionstyle=\"angle,angleA=10,angleB=60\")\n",
        "    kw = dict(xycoords='data',textcoords=\"axes fraction\",\n",
        "              arrowprops=arrowprops, bbox=bbox_props, ha=\"right\", va=\"top\")\n",
        "    ax.annotate(text, xy=(xmax, ymax), xytext=(0.94,0.96), **kw)\n"
      ],
      "metadata": {
        "id": "BGzT_nyDECnF"
      },
      "execution_count": null,
      "outputs": []
    },
    {
      "cell_type": "markdown",
      "source": [
        "In AdaBoost we get the best n_estimators by tuning n_estimators from 80 to 240 with step 5 and in each n_estimators we do cross validation by making the train set 5 folds and storing their mean accuracy in list to get the max n_estimators that correspondes to the max mean accuracy.\n",
        "\n",
        "we choose this interval since by tring different intervals we observed that less than 80 results in relatively small accuracy and any thing greater than 240 takes a lot of time and most of the time it gives equal or less accuracy than the interval chosen.\n",
        "\n",
        "Adaboost is one of the boosting algorithms that uses multiple of weak learners (decision stumps) to give better accuracy . In sklearn the default weak learner is decision tree classifier with max depth = 1.\n",
        "\n",
        "In boosting after each model the weight of each sample is adjusted so the next model can learn more about miss classified samples , and after finishing each model is given a weight of their vote according to its error rate.\n",
        "\n",
        "In a way each weak learner learns from the previous, which results in a better classification algorithm.\n",
        "\n",
        "---\n",
        "\n"
      ],
      "metadata": {
        "id": "0QCHikQr6acO"
      }
    },
    {
      "cell_type": "code",
      "source": [
        "def get_best_n_estimator_AdaBoost(x_train, y_train):\n",
        "  n_range = range(80, 240, 5)\n",
        "  accuracy_list=[]\n",
        "  kfold = StratifiedKFold(n_splits=5, random_state=42, shuffle=True)\n",
        "  best_n=0\n",
        "  best_accuracy=0\n",
        "  for n in n_range:\n",
        "    adaboost = AdaBoostClassifier(n_estimators=n)\n",
        "    result = cross_val_score(adaboost, x_train, y_train, cv = kfold,scoring='accuracy')\n",
        "    accuracy = result.mean() * 100\n",
        "    accuracy_list.append(accuracy)\n",
        "    if accuracy>best_accuracy:\n",
        "        best_accuracy=accuracy\n",
        "        best_n=n\n",
        "  return best_n,accuracy_list,n_range"
      ],
      "metadata": {
        "id": "7pXvhbBCaASW"
      },
      "execution_count": null,
      "outputs": []
    },
    {
      "cell_type": "code",
      "source": [
        "def AdaBoost(x_train, x_test, y_train, y_test):\n",
        "  best_n , accuracy_list , n_range = get_best_n_estimator_AdaBoost(x_train, y_train)\n",
        "  print(\"********** AdaBoost **********\")\n",
        "  model=AdaBoostClassifier(n_estimators=best_n)\n",
        "  model.fit(x_train,y_train)\n",
        "  predictions = model.predict(x_test) \n",
        "  print(\"Accuracy Report for n = \", best_n)\n",
        "  get_accuracy(y_test, predictions)\n",
        "  max_accuracy.append(accuracy_score(y_test, predictions) * 100)\n",
        "  plot_AdaBoostNs(n_range, accuracy_list)\n",
        "  print(\"********************************\")"
      ],
      "metadata": {
        "id": "et_ph_6rcL0R"
      },
      "execution_count": null,
      "outputs": []
    },
    {
      "cell_type": "code",
      "source": [
        "def plot_AdaBoostNs(n_range, accuracy_list):\n",
        "    fig, ax = plt.subplots()\n",
        "    ax.plot(n_range, accuracy_list)\n",
        "    plt.title('AdaBoost with n_estimators tuned')\n",
        "    plt.xlabel(\"Value of n_estimators\")\n",
        "    plt.ylabel(\"Testing Accuracy\")\n",
        "    annot_max_n_estimators(n_range,accuracy_list)\n",
        "    plt.show()"
      ],
      "metadata": {
        "id": "lBf2oWojnIv2"
      },
      "execution_count": null,
      "outputs": []
    },
    {
      "cell_type": "code",
      "source": [
        "def annot_max_n_estimators(x,y, ax=None):\n",
        "    xmax = (y.index(max(y)))*5+x[0]\n",
        "    ymax = max(y)\n",
        "    text= \"n_estimators={:d}\".format(xmax, ymax)\n",
        "    if not ax:\n",
        "        ax=plt.gca()\n",
        "    bbox_props = dict(boxstyle=\"square,pad=0.3\", fc=\"w\", ec=\"k\", lw=0.72)\n",
        "    arrowprops=dict(arrowstyle=\"->\",connectionstyle=\"angle,angleA=10,angleB=60\")\n",
        "    kw = dict(xycoords='data',textcoords=\"data\",\n",
        "              arrowprops=arrowprops, bbox=bbox_props, ha=\"left\", va=\"top\")\n",
        "    ax.annotate(text, xy=(xmax, ymax), xytext=(xmax+5,ymax+.1), **kw)"
      ],
      "metadata": {
        "id": "oKDnkEc7nIZx"
      },
      "execution_count": null,
      "outputs": []
    },
    {
      "cell_type": "markdown",
      "source": [
        "In Random Forests we get the best n_estimators by tuning n_estimators from 70 to 230 with step 5 and in each n_estimators we do cross validation by making the train set 5 folds and storing their mean accuracy in list to get the max n_estimators that correspondes to the max mean accuracy.\n",
        "\n",
        "we choose this interval as by trying different intervals we observed that this gives best result in a considerable amount of time, we tried intervals greater than 230 but it only took a lot of time and the difference in the results where very small and some times it gives less accuracy.\n",
        "\n",
        "Random forest is an improvment on the bagging algorithm , the improvment is that in the decision trees (weak learners) instead of choosing the best feature in all features , it selectes the best feature from a random subset of features approximatly root(d) and builds the tree with it.\n",
        "This adds randomness to the model and wide diversity between the trees which brings them close to independence which result in a better model (better than the rest of the mentioned models especially the decision tree classifier as random forest contains multiple trees working together to give better accuracy the decision tree contains only one tree).\n",
        "\n",
        "And as we will see in the bar chart bellow we will see that the random forest gives the best accuracy."
      ],
      "metadata": {
        "id": "DkfDqJpq7Ez4"
      }
    },
    {
      "cell_type": "code",
      "source": [
        "def get_best_n_estimator_RandomForest(x_train, y_train):\n",
        "  n_range = range(70, 230,5)\n",
        "  accuracy_list=[]\n",
        "  kfold = StratifiedKFold(n_splits=5, random_state=42, shuffle=True)\n",
        "  best_n=0\n",
        "  best_accuracy=0\n",
        "  for n in n_range:\n",
        "    randomforest = RandomForestClassifier(n_estimators=n)\n",
        "    result = cross_val_score(randomforest, x_train, y_train, cv = kfold,scoring='accuracy')\n",
        "    accuracy = result.mean() * 100\n",
        "    accuracy_list.append(accuracy)\n",
        "    if accuracy>best_accuracy:\n",
        "        best_accuracy=accuracy\n",
        "        best_n=n\n",
        "  return best_n,accuracy_list,n_range"
      ],
      "metadata": {
        "id": "4mjfPKpdjxvM"
      },
      "execution_count": null,
      "outputs": []
    },
    {
      "cell_type": "code",
      "source": [
        "def RandomForest(x_train, x_test, y_train, y_test):\n",
        "  best_n , accuracy_list , n_range = get_best_n_estimator_RandomForest(x_train, y_train)\n",
        "  print(\"********** RandomForest **********\")\n",
        "  model=RandomForestClassifier(n_estimators=best_n)\n",
        "  model.fit(x_train,y_train)\n",
        "  predictions = model.predict(x_test) \n",
        "  print(\"Accuracy Report for n = \", best_n)\n",
        "  get_accuracy(y_test, predictions)\n",
        "  max_accuracy.append(accuracy_score(y_test, predictions) * 100)\n",
        "  plot_RandomForestNs(n_range, accuracy_list)\n",
        "  print(\"********************************\")"
      ],
      "metadata": {
        "id": "W-YI7d_Qkil5"
      },
      "execution_count": null,
      "outputs": []
    },
    {
      "cell_type": "code",
      "source": [
        "def plot_RandomForestNs(n_range, accuracy_list):\n",
        "    fig, ax = plt.subplots()\n",
        "    ax.plot(n_range, accuracy_list)\n",
        "    plt.title('Random Forests with n_estimators tuned')\n",
        "    plt.xlabel(\"Value of n_estimators\")\n",
        "    plt.ylabel(\"Testing Accuracy\")\n",
        "    annot_max_n_estimators(n_range,accuracy_list)\n",
        "    plt.show()"
      ],
      "metadata": {
        "id": "gwS3vJh83ilN"
      },
      "execution_count": null,
      "outputs": []
    },
    {
      "cell_type": "code",
      "source": [
        "def plot_max():\n",
        "    data = {'DT: Entropy': max_accuracy[0], 'NB': max_accuracy[1], 'KNN': max_accuracy[2], 'AdaBoost':max_accuracy[3],'RandomForest':max_accuracy[4]}\n",
        "    plt.bar(list(data.keys()), list(data.values()), color='purple', width=0.4)\n",
        "    plt.xlabel(\"Algorithms Used\")\n",
        "    plt.ylabel(\"Accuracy Score\")\n",
        "    plt.title(\"Max Accuracy for each Algorithm Comparison\")\n",
        "    plt.show()"
      ],
      "metadata": {
        "id": "LvMdW-cdrduT"
      },
      "execution_count": null,
      "outputs": []
    },
    {
      "cell_type": "code",
      "source": [
        "if __name__ == \"__main__\":\n",
        "    magic_dataset = read()\n",
        "    magic_dataset = balance(magic_dataset)\n",
        "    x_train, x_test, y_train, y_test = split(magic_dataset)\n",
        "    decision_tree(x_train, x_test, y_train, y_test)\n",
        "    naive_bayes(x_train, x_test, y_train, y_test)\n",
        "    knn(x_train, x_test, y_train, y_test)\n",
        "    AdaBoost(x_train, x_test, y_train, y_test)\n",
        "    RandomForest(x_train, x_test, y_train, y_test)\n",
        "    plot_max()"
      ],
      "metadata": {
        "id": "sLiDDvtTr_g3",
        "colab": {
          "base_uri": "https://localhost:8080/",
          "height": 1000
        },
        "outputId": "d53e2ec3-d60e-4783-c013-61a257188a95"
      },
      "execution_count": null,
      "outputs": [
        {
          "output_type": "stream",
          "name": "stdout",
          "text": [
            "********** Decision Tree: Entropy **********\n",
            "Confusion Matrix: \n",
            " [[1582  424]\n",
            " [ 424 1583]]\n",
            "Accuracy:  78.8686768003987\n",
            "Report:\n",
            "               precision    recall  f1-score   support\n",
            "\n",
            "           g       0.79      0.79      0.79      2007\n",
            "           h       0.79      0.79      0.79      2006\n",
            "\n",
            "    accuracy                           0.79      4013\n",
            "   macro avg       0.79      0.79      0.79      4013\n",
            "weighted avg       0.79      0.79      0.79      4013\n",
            "\n",
            "********** Naive Bayes **********\n",
            "Confusion Matrix: \n",
            " [[ 829 1177]\n",
            " [ 206 1801]]\n",
            "Accuracy:  65.53700473461251\n",
            "Report:\n",
            "               precision    recall  f1-score   support\n",
            "\n",
            "           g       0.60      0.90      0.72      2007\n",
            "           h       0.80      0.41      0.55      2006\n",
            "\n",
            "    accuracy                           0.66      4013\n",
            "   macro avg       0.70      0.66      0.63      4013\n",
            "weighted avg       0.70      0.66      0.63      4013\n",
            "\n",
            "********** KNN **********\n",
            "Accuracy Report for k =  21\n",
            "Confusion Matrix: \n",
            " [[1393  613]\n",
            " [ 270 1737]]\n",
            "Accuracy:  77.99651133815101\n",
            "Report:\n",
            "               precision    recall  f1-score   support\n",
            "\n",
            "           g       0.74      0.87      0.80      2007\n",
            "           h       0.84      0.69      0.76      2006\n",
            "\n",
            "    accuracy                           0.78      4013\n",
            "   macro avg       0.79      0.78      0.78      4013\n",
            "weighted avg       0.79      0.78      0.78      4013\n",
            "\n"
          ]
        },
        {
          "output_type": "display_data",
          "data": {
            "image/png": "[encoded data removed]",
            "text/plain": [
              "<Figure size 432x288 with 1 Axes>"
            ]
          },
          "metadata": {
            "needs_background": "light"
          }
        },
        {
          "output_type": "stream",
          "name": "stdout",
          "text": [
            "********************************\n",
            "********** AdaBoost **********\n",
            "Accuracy Report for n =  195\n",
            "Confusion Matrix: \n",
            " [[1677  329]\n",
            " [ 369 1638]]\n",
            "Accuracy:  82.60652878146026\n",
            "Report:\n",
            "               precision    recall  f1-score   support\n",
            "\n",
            "           g       0.83      0.82      0.82      2007\n",
            "           h       0.82      0.84      0.83      2006\n",
            "\n",
            "    accuracy                           0.83      4013\n",
            "   macro avg       0.83      0.83      0.83      4013\n",
            "weighted avg       0.83      0.83      0.83      4013\n",
            "\n"
          ]
        },
        {
          "output_type": "display_data",
          "data": {
            "image/png": "[encoded data removed]",
            "text/plain": [
              "<Figure size 432x288 with 1 Axes>"
            ]
          },
          "metadata": {
            "needs_background": "light"
          }
        },
        {
          "output_type": "stream",
          "name": "stdout",
          "text": [
            "********************************\n",
            "********** RandomForest **********\n",
            "Accuracy Report for n =  185\n",
            "Confusion Matrix: \n",
            " [[1676  330]\n",
            " [ 264 1743]]\n",
            "Accuracy:  85.19810615499627\n",
            "Report:\n",
            "               precision    recall  f1-score   support\n",
            "\n",
            "           g       0.84      0.87      0.85      2007\n",
            "           h       0.86      0.84      0.85      2006\n",
            "\n",
            "    accuracy                           0.85      4013\n",
            "   macro avg       0.85      0.85      0.85      4013\n",
            "weighted avg       0.85      0.85      0.85      4013\n",
            "\n"
          ]
        },
        {
          "output_type": "display_data",
          "data": {
            "image/png": "[encoded data removed]",
            "text/plain": [
              "<Figure size 432x288 with 1 Axes>"
            ]
          },
          "metadata": {
            "needs_background": "light"
          }
        },
        {
          "output_type": "stream",
          "name": "stdout",
          "text": [
            "********************************\n"
          ]
        },
        {
          "output_type": "display_data",
          "data": {
            "image/png": "[encoded data removed]",
            "text/plain": [
              "<Figure size 432x288 with 1 Axes>"
            ]
          },
          "metadata": {
            "needs_background": "light"
          }
        }
      ]
    }
  ]
}